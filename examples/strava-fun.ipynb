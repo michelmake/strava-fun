{
 "cells": [
  {
   "cell_type": "code",
   "execution_count": 1,
   "metadata": {
    "scrolled": true
   },
   "outputs": [],
   "source": [
    "# Make the libraries reload automatically\n",
    "# This can be useful if you change something \n",
    "# a imported library. \n",
    "%load_ext autoreload\n",
    "%autoreload 2"
   ]
  },
  {
   "cell_type": "markdown",
   "metadata": {},
   "source": [
    "### Import Libraries\n",
    "\n",
    "First a series of libraries are loaded which are used within this notebook. \n",
    "If any of the libraries is missing, simply install them using `pip`:\n",
    "    \n",
    "```lang=python\n",
    "pip install <library-name>\n",
    "```"
   ]
  },
  {
   "cell_type": "code",
   "execution_count": 2,
   "metadata": {},
   "outputs": [
    {
     "data": {
      "text/plain": [
       "True"
      ]
     },
     "execution_count": 2,
     "metadata": {},
     "output_type": "execute_result"
    }
   ],
   "source": [
    "# Import the required libraries\n",
    "import dotenv\n",
    "import gmplot                        # Plot data on Google Maps instance \n",
    "from IPython.display import IFrame   # Display HTML page within Jupyter cells\n",
    "import matplotlib.pyplot as plt      # Plotting library\n",
    "import numpy as np                   # Scientific computing package\n",
    "import os                            # OS dependent functionalities\n",
    "import pandas as pd                  # Data analysis package\n",
    "import statistics                    # Statistic operations package\n",
    "from stravaio import StravaIO, strava_oauth2\n",
    "import warnings                      # Warning class\n",
    "\n",
    "\n",
    "dotenv.load_dotenv()"
   ]
  },
  {
   "cell_type": "markdown",
   "metadata": {},
   "source": [
    "### Before you Continue\n",
    "\n",
    "To retrieve your strava token, make sure that you have correctly set your Strava account and exported the API client ID and secret. To make life easier, you can them using the following in a terminal:\n",
    "\n",
    "```lang=bash\n",
    "export STRAVA_CLIENT_ID=<the-actual-id>\n",
    "export STRAVA_CLIENT_SECRET=<the-actual-secret>\n",
    "```"
   ]
  },
  {
   "cell_type": "code",
   "execution_count": 3,
   "metadata": {
    "scrolled": true
   },
   "source": [
    "# Retrieve your strava  access token\n",
    "#token = strava_oauth2(client_id=<the-actual-id>, client_secret=<the-actual-secret> )\n",
    "#assert access_token is not None\n",
    "access_token = strava_oauth2(client_id=\"<the-actual-id>\", client_secret=\"<the-actual-secret>\" )\n",
    "assert access_token is not None"
   ]
  },
  {
   "cell_type": "markdown",
   "metadata": {},
   "source": [
    "### Retrieve Client Data\n",
    "\n",
    "Using the Strava access token the client data is stored in the `client` object. Use `print(client)` to print the content of the `client` object."
   ]
  },
  {
   "cell_type": "code",
   "execution_count": 4,
   "metadata": {},
   "outputs": [],
   "source": [
    "# Store client data using the retrieved access-token\n",
    "client = StravaIO(access_token=access_token['access_token'])"
   ]
  },
  {
   "cell_type": "markdown",
   "metadata": {},
   "source": [
    "### Retrieve Athlete Data\n",
    "\n",
    "The next line can be used to extract some athlete information. This `athlete` object contains more ore less that what is also stored on your Strava profile page."
   ]
  },
  {
   "cell_type": "code",
   "execution_count": 5,
   "metadata": {
    "scrolled": true
   },
   "outputs": [],
   "source": [
    "# Retrieve athlete data\n",
    "athlete = client.get_logged_in_athlete()\n",
    "\n",
    "# Uncomment to print the retrieved athlete data\n",
    "# print(athlete)"
   ]
  },
  {
   "cell_type": "markdown",
   "metadata": {},
   "source": [
    "### Retrieve Activities\n",
    "\n",
    "The next cell will retrieve the activities that are recorded after a certain given date.\n",
    "The date is stored in `activities_from_this_point_on`"
   ]
  },
  {
   "cell_type": "code",
   "execution_count": 6,
   "metadata": {},
   "outputs": [
    {
     "name": "stdout",
     "output_type": "stream",
     "text": [
      "Fetched 17, the latests is on 2020-02-29 07:15:35+00:00\n"
     ]
    }
   ],
   "source": [
    "# Retrieve client's activities recorded after the given \"date\"\n",
    "activities_from_this_point_on = 'last month'\n",
    "\n",
    "\n",
    "activities = client.get_logged_in_athlete_activities(after=activities_from_this_point_on,\n",
    "                                                     list_activities=None)\n"
   ]
  },
  {
   "cell_type": "markdown",
   "metadata": {},
   "source": [
    "### Athlete Statistics\n",
    "\n",
    "The next cell prints some basic activitie data. Statistics such as total runs, ride and distances are printed."
   ]
  },
  {
   "cell_type": "code",
   "execution_count": 7,
   "metadata": {},
   "source": [
    "# initialize list of various acitivy types\n",
    "run_acitivies = []\n",
    "ride_acitivies = []\n",
    "virtual_ride_acitivies = []\n",
    "\n",
    "# sort all relevant activities in corresponding lists\n",
    "for a in activities:\n",
    "    if a.type == 'Run':\n",
    "        run_acitivies = run_acitivies + [a]\n",
    "    elif a.type == 'Ride':\n",
    "        ride_acitivies = ride_acitivies + [a]    \n",
    "    elif a.type == 'VirtualRide':\n",
    "        virtual_ride_acitivies = virtual_ride_acitivies + [a] \n",
    "\n",
    "# Get total distance per activity\n",
    "def total_distance(activities):\n",
    "    \n",
    "    total_distance = 0\n",
    "\n",
    "    # sum all relevant activity type distances\n",
    "    for a in activities:\n",
    "        total_distance = total_distance + a.distance / 1000\n",
    "        \n",
    "    return total_distance\n",
    "\n",
    "# Print total number or activies per activity type  \n",
    "# see https://pyformat.info/ for python string formatting overview (old and new style)\n",
    "print(\"Actiity stats for: {} {}:\".format(athlete.api_response.firstname,\n",
    "                                        athlete.api_response.lastname))\n",
    "print(\"==================================================\")\n",
    "#print(\"Activity types logged: {}\".format(i))\n",
    "print(\"Logged Activity types:\")\n",
    "print(*np.unique([ a.type for a in activities]), sep = \", \")  \n",
    "print(\"==================================================\")\n",
    "print(\" Total number of rides:           {:>7}    [-]\".format(len(ride_acitivies)))\n",
    "print(\" Total distance of rides:         {:>10.2f} [km]\\n\".format(total_distance(ride_acitivies)))\n",
    "print(\"==================================================\")\n",
    "print(\" Total number of virtual rides:   {:>7}    [-]\".format(len(run_acitivies)))\n",
    "print(\" Total distance of virtual rides: {:>10.2f} [km]\\n\".format(total_distance(virtual_ride_acitivies)))\n",
    "print(\"==================================================\")\n",
    "print(\" Total number of runs:            {:>7}    [-]\".format(len(run_acitivies)))\n",
    "print(\" Total distance of runs:          {:>10.2f} [km]\".format(total_distance(run_acitivies)))\n"
   ]
  },
  {
   "cell_type": "markdown",
   "metadata": {},
   "source": [
    "### Print Activity Map\n",
    "\n",
    "The next code snippt will take an activity in your `activities` instance, plot its GPS data on a map and \n",
    "prints this interactive map.\n",
    "\n",
    "This code uses the \"streams\" of an activity, which contains data such as heart rate and gps location over time."
   ]
  },
  {
   "cell_type": "code",
   "execution_count": 8,
   "metadata": {
    "scrolled": false
   },
   "outputs": [
    {
     "data": {
      "text/html": [
       "\n",
       "        <iframe\n",
       "            width=\"700\"\n",
       "            height=\"600\"\n",
       "            src=\"./map13.html\"\n",
       "            frameborder=\"0\"\n",
       "            allowfullscreen\n",
       "        ></iframe>\n",
       "        "
      ],
      "text/plain": [
       "<IPython.lib.display.IFrame at 0x11c279510>"
      ]
     },
     "execution_count": 8,
     "metadata": {},
     "output_type": "execute_result"
    }
   ],
   "source": [
    "# Specify activity number according to the order in the activities instance\n",
    "activity_number = 1\n",
    "\n",
    "# Retrieve \"streams\" of activity\n",
    "streams = client.get_activity_streams(athlete_id=athlete.id, id=activities[activity_number].id)\n",
    "\n",
    "# Generate bounding box for map\n",
    "BBox = (min(streams.lat), max(streams.lat),      \n",
    "        min(streams.lng), max(streams.lng))\n",
    "\n",
    "# Latitute and longitude data of the activity\n",
    "latitude_list = streams.lat\n",
    "longitude_list = streams.lng\n",
    "\n",
    "# Create Google Maps plot of GPS data.\n",
    "gmap3 = gmplot.GoogleMapPlotter(statistics.mean(BBox[:2]), \n",
    "                                statistics.mean(BBox[2:]), 14) \n",
    "\n",
    "\n",
    "# Plot method Draw a line in \n",
    "# between given coordinates \n",
    "gmap3.plot(streams.lat, streams.lng,  \n",
    "           'cornflowerblue', edge_width = 2.5) \n",
    "\n",
    "# Store the generated map as an HTML file.\n",
    "gmap3.draw( \"map13.html\" ) \n",
    "\n",
    "# Display the \n",
    "IFrame(src='./map13.html', width=700, height=600)"
   ]
  },
  {
   "cell_type": "code",
   "execution_count": null,
   "metadata": {},
   "outputs": [],
   "source": []
  }
 ],
 "metadata": {
  "kernelspec": {
   "display_name": "Python 3",
   "language": "python",
   "name": "python3"
  },
  "language_info": {
   "codemirror_mode": {
    "name": "ipython",
    "version": 3
   },
   "file_extension": ".py",
   "mimetype": "text/x-python",
   "name": "python",
   "nbconvert_exporter": "python",
   "pygments_lexer": "ipython3",
   "version": "3.7.6"
  }
 },
 "nbformat": 4,
 "nbformat_minor": 2
}
